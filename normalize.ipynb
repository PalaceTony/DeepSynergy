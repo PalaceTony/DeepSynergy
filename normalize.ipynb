{
 "cells": [
  {
   "cell_type": "markdown",
   "metadata": {},
   "source": [
    "## Normalization Script\n",
    "\n",
    "Author: Kristina Preuer\n",
    "\n",
    "This script shows how the data was split and how the features were normalized. The data is then saved in a pickle file. Which will be loaded during the cross validation procedure.\n"
   ]
  },
  {
   "cell_type": "code",
   "execution_count": 46,
   "metadata": {},
   "outputs": [],
   "source": [
    "import numpy as np\n",
    "import pandas as pd\n",
    "import pickle\n",
    "import gzip"
   ]
  },
  {
   "cell_type": "markdown",
   "metadata": {},
   "source": [
    "##### Define the parameters for data generation: folds for testing and validation and normalization strategy\n"
   ]
  },
  {
   "cell_type": "code",
   "execution_count": 47,
   "metadata": {},
   "outputs": [],
   "source": [
    "# in this example tanh normalization is used\n",
    "# fold 0 is used for testing and fold 1 for validation (hyperparamter selection)\n",
    "norm = \"tanh\"\n",
    "test_fold = 0\n",
    "val_fold = 1"
   ]
  },
  {
   "cell_type": "markdown",
   "metadata": {},
   "source": [
    "#### Define nomalization function\n",
    "\n",
    "It normalizes the input data X. If X is used for training the mean and the standard deviation is calculated during normalization. If X is used for validation or testing, the previously calculated mean and standard deviation of the training data should be used. If \"tanh_norm\" is used as normalization strategy, then the mean and standard deviation are calculated twice. The features with a standard deviation of 0 are filtered out.\n"
   ]
  },
  {
   "cell_type": "code",
   "execution_count": 48,
   "metadata": {},
   "outputs": [],
   "source": [
    "def normalize(\n",
    "    X, means1=None, std1=None, means2=None, std2=None, feat_filt=None, norm=\"tanh_norm\"\n",
    "):\n",
    "    if std1 is None:\n",
    "        std1 = np.nanstd(X, axis=0)\n",
    "    if feat_filt is None:\n",
    "        feat_filt = std1 != 0\n",
    "    X = X[:, feat_filt]\n",
    "    X = np.ascontiguousarray(X)\n",
    "    if means1 is None:\n",
    "        means1 = np.mean(X, axis=0)\n",
    "    X = (X - means1) / std1[feat_filt]\n",
    "    if norm == \"norm\":\n",
    "        return (X, means1, std1, feat_filt)\n",
    "    elif norm == \"tanh\":\n",
    "        return (np.tanh(X), means1, std1, feat_filt)\n",
    "    elif norm == \"tanh_norm\":\n",
    "        X = np.tanh(X)\n",
    "        if means2 is None:\n",
    "            means2 = np.mean(X, axis=0)\n",
    "        if std2 is None:\n",
    "            std2 = np.std(X, axis=0)\n",
    "        X = (X - means2) / std2\n",
    "        X[:, std2 == 0] = 0\n",
    "        return (X, means1, std1, means2, std2, feat_filt)"
   ]
  },
  {
   "cell_type": "markdown",
   "metadata": {},
   "source": [
    "#### Load features and labels\n"
   ]
  },
  {
   "cell_type": "code",
   "execution_count": 49,
   "metadata": {},
   "outputs": [],
   "source": [
    "# contains the data in both feature ordering ways (drug A - drug B - cell line and drug B - drug A - cell line)\n",
    "# in the first half of the data the features are ordered (drug A - drug B - cell line)\n",
    "# in the second half of the data the features are ordered (drug B - drug A - cell line)\n",
    "file = gzip.open(\"/hpc2hdd/home/mgong081/Projects/DeepSynergy/raw_data/X.p.gz\", \"rb\")\n",
    "X = pickle.load(file)\n",
    "file.close()"
   ]
  },
  {
   "cell_type": "code",
   "execution_count": 50,
   "metadata": {},
   "outputs": [],
   "source": [
    "# contains synergy values and fold split (numbers 0-4)\n",
    "labels = pd.read_csv(\n",
    "    \"/hpc2hdd/home/mgong081/Projects/DeepSynergy/raw_data/labels.csv\", index_col=0\n",
    ")\n",
    "# labels are duplicated for the two different ways of ordering in the data\n",
    "labels = pd.concat([labels, labels])"
   ]
  },
  {
   "cell_type": "markdown",
   "metadata": {},
   "source": [
    "#### Define indices for splitting\n"
   ]
  },
  {
   "cell_type": "code",
   "execution_count": 51,
   "metadata": {},
   "outputs": [],
   "source": [
    "# indices of training data for hyperparameter selection: fold 2, 3, 4\n",
    "idx_tr = np.where(\n",
    "    np.logical_and(labels[\"fold\"] != test_fold, labels[\"fold\"] != val_fold)\n",
    ")\n",
    "# indices of validation data for hyperparameter selection: fold 1\n",
    "idx_val = np.where(labels[\"fold\"] == val_fold)"
   ]
  },
  {
   "cell_type": "code",
   "execution_count": 52,
   "metadata": {},
   "outputs": [],
   "source": [
    "# indices of training data for model testing: fold 1, 2, 3, 4\n",
    "idx_train = np.where(labels[\"fold\"] != test_fold)\n",
    "# indices of test data for model testing: fold 0\n",
    "idx_test = np.where(labels[\"fold\"] == test_fold)"
   ]
  },
  {
   "cell_type": "markdown",
   "metadata": {},
   "source": [
    "#### Split data\n"
   ]
  },
  {
   "cell_type": "code",
   "execution_count": 53,
   "metadata": {},
   "outputs": [],
   "source": [
    "X_tr = X[idx_tr]\n",
    "X_val = X[idx_val]\n",
    "X_train = X[idx_train]\n",
    "X_test = X[idx_test]"
   ]
  },
  {
   "cell_type": "code",
   "execution_count": 54,
   "metadata": {},
   "outputs": [],
   "source": [
    "y_tr = labels.iloc[idx_tr][\"synergy\"].values\n",
    "y_val = labels.iloc[idx_val][\"synergy\"].values\n",
    "y_train = labels.iloc[idx_train][\"synergy\"].values\n",
    "y_test = labels.iloc[idx_test][\"synergy\"].values"
   ]
  },
  {
   "cell_type": "markdown",
   "metadata": {},
   "source": [
    "#### Normalize training and validation data for hyperparameter selection\n"
   ]
  },
  {
   "cell_type": "code",
   "execution_count": 55,
   "metadata": {},
   "outputs": [],
   "source": [
    "if norm == \"tanh_norm\":\n",
    "    X_tr, mean, std, mean2, std2, feat_filt = normalize(X_tr, norm=norm)\n",
    "    X_val, mean, std, mean2, std2, feat_filt = normalize(\n",
    "        X_val, mean, std, mean2, std2, feat_filt=feat_filt, norm=norm\n",
    "    )\n",
    "else:\n",
    "    X_tr, mean, std, feat_filt = normalize(X_tr, norm=norm)\n",
    "    X_val, mean, std, feat_filt = normalize(\n",
    "        X_val, mean, std, feat_filt=feat_filt, norm=norm\n",
    "    )"
   ]
  },
  {
   "cell_type": "markdown",
   "metadata": {},
   "source": [
    "#### Normalize training and test data for methods comparison\n"
   ]
  },
  {
   "cell_type": "code",
   "execution_count": 56,
   "metadata": {},
   "outputs": [],
   "source": [
    "if norm == \"tanh_norm\":\n",
    "    X_train, mean, std, mean2, std2, feat_filt = normalize(X_train, norm=norm)\n",
    "    X_test, mean, std, mean2, std2, feat_filt = normalize(\n",
    "        X_test, mean, std, mean2, std2, feat_filt=feat_filt, norm=norm\n",
    "    )\n",
    "else:\n",
    "    X_train, mean, std, feat_filt = normalize(X_train, norm=norm)\n",
    "    X_test, mean, std, feat_filt = normalize(\n",
    "        X_test, mean, std, feat_filt=feat_filt, norm=norm\n",
    "    )"
   ]
  },
  {
   "cell_type": "markdown",
   "metadata": {},
   "source": [
    "#### Save data as pickle file\n"
   ]
  },
  {
   "cell_type": "code",
   "execution_count": 57,
   "metadata": {},
   "outputs": [],
   "source": [
    "pickle.dump(\n",
    "    (X_tr, X_val, X_train, X_test, y_tr, y_val, y_train, y_test),\n",
    "    open(\"data_test_fold%d_%s.p\" % (test_fold, norm), \"wb\"),\n",
    ")"
   ]
  },
  {
   "cell_type": "code",
   "execution_count": null,
   "metadata": {},
   "outputs": [],
   "source": []
  },
  {
   "cell_type": "code",
   "execution_count": null,
   "metadata": {},
   "outputs": [],
   "source": []
  },
  {
   "cell_type": "code",
   "execution_count": null,
   "metadata": {},
   "outputs": [],
   "source": []
  },
  {
   "cell_type": "code",
   "execution_count": null,
   "metadata": {},
   "outputs": [],
   "source": []
  },
  {
   "cell_type": "code",
   "execution_count": null,
   "metadata": {},
   "outputs": [],
   "source": []
  },
  {
   "cell_type": "code",
   "execution_count": null,
   "metadata": {},
   "outputs": [],
   "source": []
  }
 ],
 "metadata": {
  "kernelspec": {
   "display_name": "Python 3",
   "language": "python",
   "name": "python3"
  },
  "language_info": {
   "codemirror_mode": {
    "name": "ipython",
    "version": 3
   },
   "file_extension": ".py",
   "mimetype": "text/x-python",
   "name": "python",
   "nbconvert_exporter": "python",
   "pygments_lexer": "ipython3",
   "version": "3.7.16"
  }
 },
 "nbformat": 4,
 "nbformat_minor": 2
}
