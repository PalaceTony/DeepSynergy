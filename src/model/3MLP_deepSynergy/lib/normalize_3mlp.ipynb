{
 "cells": [
  {
   "cell_type": "markdown",
   "metadata": {},
   "source": [
    "## Normalization Script\n",
    "\n",
    "Author: Kristina Preuer\n",
    "\n",
    "This script shows how the data was split and how the features were normalized. The data is then saved in a pickle file. Which will be loaded during the cross validation procedure.\n"
   ]
  },
  {
   "cell_type": "code",
   "execution_count": 77,
   "metadata": {},
   "outputs": [],
   "source": [
    "import numpy as np\n",
    "import pandas as pd\n",
    "import pickle\n",
    "import gzip"
   ]
  },
  {
   "cell_type": "markdown",
   "metadata": {},
   "source": [
    "##### Define the parameters for data generation: folds for testing and validation and normalization strategy\n"
   ]
  },
  {
   "cell_type": "code",
   "execution_count": 78,
   "metadata": {},
   "outputs": [],
   "source": [
    "# in this example tanh normalization is used\n",
    "# fold 0 is used for testing and fold 1 for validation (hyperparamter selection)\n",
    "norm = \"tanh\"\n",
    "test_fold = 0\n",
    "val_fold = 1"
   ]
  },
  {
   "cell_type": "markdown",
   "metadata": {},
   "source": [
    "#### Define nomalization function\n",
    "\n",
    "It normalizes the input data X. If X is used for training the mean and the standard deviation is calculated during normalization. If X is used for validation or testing, the previously calculated mean and standard deviation of the training data should be used. If \"tanh_norm\" is used as normalization strategy, then the mean and standard deviation are calculated twice. The features with a standard deviation of 0 are filtered out.\n"
   ]
  },
  {
   "cell_type": "markdown",
   "metadata": {},
   "source": [
    "#### Load features and labels\n"
   ]
  },
  {
   "cell_type": "code",
   "execution_count": 79,
   "metadata": {},
   "outputs": [],
   "source": [
    "# contains the data in both feature ordering ways (drug A - drug B - cell line and drug B - drug A - cell line)\n",
    "# in the first half of the data the features are ordered (drug A - drug B - cell line)\n",
    "# in the second half of the data the features are ordered (drug B - drug A - cell line)\n",
    "file = gzip.open(\"/hpc2hdd/home/mgong081/Projects/DeepSynergy/raw_data/X.p.gz\", \"rb\")\n",
    "X = pickle.load(file)\n",
    "file.close()"
   ]
  },
  {
   "cell_type": "code",
   "execution_count": 80,
   "metadata": {},
   "outputs": [],
   "source": [
    "# contains synergy values and fold split (numbers 0-4)\n",
    "labels = pd.read_csv(\n",
    "    \"/hpc2hdd/home/mgong081/Projects/DeepSynergy/raw_data/labels.csv\", index_col=0\n",
    ")\n",
    "# # labels are duplicated for the two different ways of ordering in the data\n",
    "# labels = pd.concat([labels, labels])"
   ]
  },
  {
   "cell_type": "markdown",
   "metadata": {},
   "source": [
    "#### Extract drug A, drug B and cell line features\n"
   ]
  },
  {
   "cell_type": "code",
   "execution_count": 81,
   "metadata": {},
   "outputs": [],
   "source": [
    "import numpy as np\n",
    "\n",
    "# Examine with the known data. Find the first non-identical column from the end of two matrices\n",
    "\n",
    "\n",
    "# X1 drug A - drug B - cell line\n",
    "X1 = X[: len(X) // 2]\n",
    "X2 = X[len(X) // 2 :]\n",
    "\n",
    "\n",
    "def find_consecutive_identical_columns(X1, X2):\n",
    "    # Number of columns in X1 and X2\n",
    "    num_cols = X1.shape[1]\n",
    "\n",
    "    # Initialize the index of the first non-identical column (from the end)\n",
    "    first_non_identical_idx = None\n",
    "\n",
    "    # Iterate over columns from the end to the beginning\n",
    "    for i in range(num_cols - 1, -1, -1):\n",
    "        # Compare the ith column in both matrices\n",
    "        if not np.allclose(X1[:, i], X2[:, i]):\n",
    "            first_non_identical_idx = i + 1\n",
    "            break\n",
    "\n",
    "    # If all columns are identical, then first_non_identical_idx will be None\n",
    "    if first_non_identical_idx is None:\n",
    "        return X1, X2  # All columns are identical\n",
    "    else:\n",
    "        # Return the identical columns from the end to the first non-identical index\n",
    "        return X1[:, first_non_identical_idx:], X2[:, first_non_identical_idx:]\n",
    "\n",
    "\n",
    "identical_columns_X1, identical_columns_X2 = find_consecutive_identical_columns(X1, X2)\n",
    "\n",
    "# Define feature counts\n",
    "drug_A_feature_count = 1309 + 802 + 2276\n",
    "drug_B_feature_count = 1309 + 802 + 2276\n",
    "cell_line_feature_count = 3984\n",
    "\n",
    "# Calculate indices for slicing\n",
    "drug_A_end = drug_A_feature_count\n",
    "drug_B_start = drug_A_end\n",
    "drug_B_end = drug_B_start + drug_B_feature_count\n",
    "cell_line_start = drug_B_end\n",
    "\n",
    "# # Extract features\n",
    "# drug_A_features = X1[:, 0:drug_A_end]\n",
    "# drug_B_features = X1[:, drug_B_start:drug_B_end]\n",
    "# cell_line_features = X1[:, cell_line_start:]"
   ]
  },
  {
   "cell_type": "markdown",
   "metadata": {},
   "source": [
    "#### Define indices for splitting\n"
   ]
  },
  {
   "cell_type": "code",
   "execution_count": 82,
   "metadata": {},
   "outputs": [],
   "source": [
    "# indices of training data for hyperparameter selection: fold 2, 3, 4\n",
    "idx_tr = np.where(\n",
    "    np.logical_and(labels[\"fold\"] != test_fold, labels[\"fold\"] != val_fold)\n",
    ")\n",
    "# indices of validation data for hyperparameter selection: fold 1\n",
    "idx_val = np.where(labels[\"fold\"] == val_fold)"
   ]
  },
  {
   "cell_type": "code",
   "execution_count": 83,
   "metadata": {},
   "outputs": [],
   "source": [
    "# indices of training data for model testing: fold 1, 2, 3, 4\n",
    "idx_train = np.where(labels[\"fold\"] != test_fold)\n",
    "# indices of test data for model testing: fold 0\n",
    "idx_test = np.where(labels[\"fold\"] == test_fold)"
   ]
  },
  {
   "cell_type": "markdown",
   "metadata": {},
   "source": [
    "#### Split data\n"
   ]
  },
  {
   "cell_type": "code",
   "execution_count": 84,
   "metadata": {},
   "outputs": [],
   "source": [
    "X_tr = X1[idx_tr]\n",
    "X_val = X1[idx_val]\n",
    "X_train = X1[idx_train]\n",
    "X_test = X1[idx_test]"
   ]
  },
  {
   "cell_type": "code",
   "execution_count": 85,
   "metadata": {},
   "outputs": [],
   "source": [
    "y_tr = labels.iloc[idx_tr][\"synergy\"].values\n",
    "y_val = labels.iloc[idx_val][\"synergy\"].values\n",
    "y_train = labels.iloc[idx_train][\"synergy\"].values\n",
    "y_test = labels.iloc[idx_test][\"synergy\"].values"
   ]
  },
  {
   "cell_type": "code",
   "execution_count": 86,
   "metadata": {},
   "outputs": [],
   "source": [
    "X_tr_drug_A = X_tr[:, 0:drug_A_end]\n",
    "X_tr_drug_B = X_tr[:, drug_B_start:drug_B_end]\n",
    "X_tr_cell_line = X_tr[:, cell_line_start:]\n",
    "\n",
    "X_val_drug_A = X_val[:, 0:drug_A_end]\n",
    "X_val_drug_B = X_val[:, drug_B_start:drug_B_end]\n",
    "X_val_cell_line = X_val[:, cell_line_start:]\n",
    "\n",
    "X_train_drug_A = X_train[:, 0:drug_A_end]\n",
    "X_train_drug_B = X_train[:, drug_B_start:drug_B_end]\n",
    "X_train_cell_line = X_train[:, cell_line_start:]\n",
    "\n",
    "X_test_drug_A = X_test[:, 0:drug_A_end]\n",
    "X_test_drug_B = X_test[:, drug_B_start:drug_B_end]\n",
    "X_test_cell_line = X_test[:, cell_line_start:]"
   ]
  },
  {
   "cell_type": "markdown",
   "metadata": {},
   "source": [
    "#### Normalize training and validation data for hyperparameter selection\n"
   ]
  },
  {
   "cell_type": "code",
   "execution_count": 87,
   "metadata": {},
   "outputs": [],
   "source": [
    "def normalize(\n",
    "    X, means1=None, std1=None, means2=None, std2=None, feat_filt=None, norm=\"tanh_norm\"\n",
    "):\n",
    "    if std1 is None:\n",
    "        std1 = np.nanstd(X, axis=0)\n",
    "    if feat_filt is None:\n",
    "        feat_filt = std1 != 0\n",
    "    X = X[:, feat_filt]\n",
    "    X = np.ascontiguousarray(X)\n",
    "    if means1 is None:\n",
    "        means1 = np.mean(X, axis=0)\n",
    "    X = (X - means1) / std1[feat_filt]\n",
    "    if norm == \"norm\":\n",
    "        return (X, means1, std1, feat_filt)\n",
    "    elif norm == \"tanh\":\n",
    "        return (np.tanh(X), means1, std1, feat_filt)\n",
    "    elif norm == \"tanh_norm\":\n",
    "        X = np.tanh(X)\n",
    "        if means2 is None:\n",
    "            means2 = np.mean(X, axis=0)\n",
    "        if std2 is None:\n",
    "            std2 = np.std(X, axis=0)\n",
    "        X = (X - means2) / std2\n",
    "        X[:, std2 == 0] = 0\n",
    "        return (X, means1, std1, means2, std2, feat_filt)"
   ]
  },
  {
   "cell_type": "markdown",
   "metadata": {},
   "source": [
    "#### Normalize\n"
   ]
  },
  {
   "cell_type": "code",
   "execution_count": 88,
   "metadata": {},
   "outputs": [],
   "source": [
    "# Normalize drug A/B and cell line\n",
    "# Tr\n",
    "X_tr_drug_A, mean_drug_A, std_drug_A, feat_filt_drug_A = normalize(\n",
    "    X_tr_drug_A, norm=norm\n",
    ")\n",
    "X_tr_drug_B, mean_drug_B, std_drug_B, feat_filt_drug_B = normalize(\n",
    "    X_tr_drug_B, norm=norm\n",
    ")\n",
    "X_tr_cell_line, mean_cell_line, std_cell_line, feat_filt_cell_line = normalize(\n",
    "    X_tr_cell_line, norm=norm\n",
    ")\n",
    "\n",
    "# Val\n",
    "X_val_drug_A, mean_drug_A, std_drug_A, feat_filt_drug_A = normalize(\n",
    "    X_val_drug_A, mean_drug_A, std_drug_A, feat_filt_drug_A, norm=norm\n",
    ")\n",
    "X_val_drug_B, mean_drug_B, std_drug_B, feat_filt_drug_B = normalize(\n",
    "    X_val_drug_B, mean_drug_B, std_drug_B, feat_filt_drug_B, norm=norm\n",
    ")\n",
    "X_val_cell_line, mean_cell_line, std_cell_line, feat_filt_cell_line = normalize(\n",
    "    X_val_cell_line, mean_cell_line, std_cell_line, feat_filt_cell_line, norm=norm\n",
    ")\n",
    "\n",
    "# Train\n",
    "X_train_drug_A, mean_drug_A, std_drug_A, feat_filt_drug_A = normalize(\n",
    "    X_train_drug_A, mean_drug_A, std_drug_A, feat_filt_drug_A, norm=norm\n",
    ")\n",
    "X_train_drug_B, mean_drug_B, std_drug_B, feat_filt_drug_B = normalize(\n",
    "    X_train_drug_B, mean_drug_B, std_drug_B, feat_filt_drug_B, norm=norm\n",
    ")\n",
    "X_train_cell_line, mean_cell_line, std_cell_line, feat_filt_cell_line = normalize(\n",
    "    X_train_cell_line, mean_cell_line, std_cell_line, feat_filt_cell_line, norm=norm\n",
    ")\n",
    "\n",
    "# Test\n",
    "X_test_drug_A, mean_drug_A, std_drug_A, feat_filt_drug_A = normalize(\n",
    "    X_test_drug_A, mean_drug_A, std_drug_A, feat_filt_drug_A, norm=norm\n",
    ")\n",
    "X_test_drug_B, mean_drug_B, std_drug_B, feat_filt_drug_B = normalize(\n",
    "    X_test_drug_B, mean_drug_B, std_drug_B, feat_filt_drug_B, norm=norm\n",
    ")\n",
    "X_test_cell_line, mean_cell_line, std_cell_line, feat_filt_cell_line = normalize(\n",
    "    X_test_cell_line, mean_cell_line, std_cell_line, feat_filt_cell_line, norm=norm\n",
    ")"
   ]
  },
  {
   "cell_type": "code",
   "execution_count": 89,
   "metadata": {},
   "outputs": [
    {
     "name": "stdout",
     "output_type": "stream",
     "text": [
      "(13884, 2353) (13884, 2334) (13884, 3984)\n"
     ]
    },
    {
     "data": {
      "text/plain": [
       "8671"
      ]
     },
     "execution_count": 89,
     "metadata": {},
     "output_type": "execute_result"
    }
   ],
   "source": [
    "print(X_tr_drug_A.shape, X_tr_drug_B.shape, X_tr_cell_line.shape)\n",
    "X_val_drug_A.shape[1] + X_val_drug_B.shape[1] + X_val_cell_line.shape[1]"
   ]
  },
  {
   "cell_type": "code",
   "execution_count": 90,
   "metadata": {},
   "outputs": [],
   "source": [
    "# Save\n",
    "pickle.dump(\n",
    "    (\n",
    "        X_tr_drug_A,\n",
    "        X_tr_drug_B,\n",
    "        X_tr_cell_line,\n",
    "        X_val_drug_A,\n",
    "        X_val_drug_B,\n",
    "        X_val_cell_line,\n",
    "        X_train_drug_A,\n",
    "        X_train_drug_B,\n",
    "        X_train_cell_line,\n",
    "        X_test_drug_A,\n",
    "        X_test_drug_B,\n",
    "        X_test_cell_line,\n",
    "        y_tr,\n",
    "        y_val,\n",
    "        y_train,\n",
    "        y_test,\n",
    "    ),\n",
    "    open(\"data/3mlp_data_test_fold%d_%s.p\" % (test_fold, norm), \"wb\"),\n",
    ")"
   ]
  }
 ],
 "metadata": {
  "kernelspec": {
   "display_name": "Python 3",
   "language": "python",
   "name": "python3"
  },
  "language_info": {
   "codemirror_mode": {
    "name": "ipython",
    "version": 3
   },
   "file_extension": ".py",
   "mimetype": "text/x-python",
   "name": "python",
   "nbconvert_exporter": "python",
   "pygments_lexer": "ipython3",
   "version": "3.7.16"
  }
 },
 "nbformat": 4,
 "nbformat_minor": 2
}
